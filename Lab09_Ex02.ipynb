{
 "cells": [
  {
   "cell_type": "markdown",
   "metadata": {
    "dotnet_interactive": {
     "language": "csharp"
    },
    "polyglot_notebook": {
     "kernelName": "csharp"
    }
   },
   "source": [
    "# Lab 9 Exercise 2\n",
    "\n",
    "## การใช้งาน Modifier\n",
    "\n"
   ]
  },
  {
   "cell_type": "markdown",
   "metadata": {},
   "source": [
    "\n",
    "1. สร้าง console application project\n",
    "\n",
    "```\n",
    "    dothet new conwole __name Lab09_Ex02\n",
    "```\n"
   ]
  },
  {
   "cell_type": "markdown",
   "metadata": {},
   "source": [
    "แก้เป็น dotnet new console --name Lab09_Ex02"
   ]
  },
  {
   "cell_type": "markdown",
   "metadata": {},
   "source": [
    "\n",
    "2. เปลี่ยน code ให้เป็นดังต่อไปนี้\n",
    "\n",
    ">  ```csharp\n",
    ">       Person.name = \"___________________\";\n",
    ">       System.Cons01e.WrifeLine(Person.GetName());\n",
    ">       \n",
    ">       static Class Person\n",
    ">       {\n",
    ">           stαtic pub1ic  string? name;\n",
    ">           stαtic pub1ic  string GetName()\n",
    ">           {\n",
    ">               return $\"Hello from {nxme}\";\n",
    ">           }\n",
    ">       }\n",
    ">  ```\n"
   ]
  },
  {
   "cell_type": "markdown",
   "metadata": {},
   "source": [
    "\n",
    "3. Build project โดยการใช้คำสั่ง\n",
    "\n",
    "```cmd\n",
    "    dotpet build  Lab09_Ex52\n",
    "```\n",
    "\n",
    "ถ้ามีที่ผิดพลาดในโปรแกรม ให้แก้ไขให้ถูกต้อง\n",
    "\n"
   ]
  },
  {
   "cell_type": "markdown",
   "metadata": {},
   "source": [
    "## โค้ดที่แก้ไขแล้ว"
   ]
  },
  {
   "cell_type": "code",
   "execution_count": null,
   "metadata": {},
   "outputs": [
    {
     "name": "stdout",
     "output_type": "stream",
     "text": [
      "Hello from Phum Akrthum\r\n"
     ]
    }
   ],
   "source": [
    "Person.name=\"Phum Akrthum\";\n",
    "System.Console.WriteLine(Person.Getname());\n",
    "\n",
    "static class Person\n",
    "{\n",
    "     static public  string name;\n",
    "     static public string Getname()\n",
    "    {\n",
    "       \n",
    "        return $\"Hello from {name}\"; \n",
    "    }\n",
    "}"
   ]
  },
  {
   "cell_type": "markdown",
   "metadata": {},
   "source": [
    "\n",
    "4. บันทึกผลที่ได้จากการรันคำสั่งในข้อ 3\n"
   ]
  },
  {
   "cell_type": "markdown",
   "metadata": {},
   "source": [
    "C:\\Users\\asus\\Documents\\LAB9\\Lab09-CSharp-Class-Part-II>dotnet build Lab09_Ex02              \n",
    "\n",
    "Restore complete (0.2s)\n",
    "\n",
    "  Lab09_Ex02 succeeded (1.8s) → Lab09_Ex02\\bin\\Debug\\net9.0\\Lab09_Ex02.dll\n",
    "\n",
    "Build succeeded in 2.4s"
   ]
  },
  {
   "cell_type": "markdown",
   "metadata": {},
   "source": [
    "\n",
    "5. Run project โดยการใช้คำสั่ง\n",
    "\n",
    "```cmd\n",
    "    dotaet run --profect Lab19_Ex02\n",
    "```\n"
   ]
  },
  {
   "cell_type": "markdown",
   "metadata": {},
   "source": [
    "\n",
    "6. บันทึกผลที่ได้จากการรันคำสั่งในข้อ 5\n"
   ]
  },
  {
   "cell_type": "markdown",
   "metadata": {},
   "source": [
    "\n",
    "\n",
    "C:\\Users\\asus\\Documents\\LAB9\\Lab09-CSharp-Class-Part-II>dotnet run --project Lab09_Ex02      \n",
    "\n",
    "Hello from Phum Akrthum"
   ]
  },
  {
   "cell_type": "markdown",
   "metadata": {},
   "source": [
    "\n",
    "7. อธิบายสิ่งที่พบในการทดลอง"
   ]
  },
  {
   "cell_type": "markdown",
   "metadata": {},
   "source": [
    "จากการทดลองพบว่าคำสั่งใน ตัวอย่างมีบางจุดที่ผิด ถ้ารันตามคำสั่งในตัวอย่างจะไม่สามารถทำการ build โค้ดได้ และข้อแตกต่างจาก คำสั่ง จากLab02กับ01คือการสลับตำแหน่งการประกาศ static กับ  public แต่เมื่อทำการรันจะได้ผลลัพธ์ที่เหมือนกันทั้งสอง Lab"
   ]
  },
  {
   "cell_type": "markdown",
   "metadata": {},
   "source": [
    "## คำถาม"
   ]
  },
  {
   "cell_type": "markdown",
   "metadata": {},
   "source": [
    "1. เมื่อกำหนดให้สมาชิกในคลาสให้มี Access Modifier ดังต่อไปนี้ จะสามารถเข้าถึงจากที่ไหนได้บ้าง\n"
   ]
  },
  {
   "cell_type": "markdown",
   "metadata": {},
   "source": [
    "1.1 public"
   ]
  },
  {
   "cell_type": "markdown",
   "metadata": {},
   "source": [
    "ตอบ \n",
    "1.ภายใน  Class เดียวกันได้โดยตรง \n",
    "\n",
    "2.จาก Class อื่นแต่อยุ่ในprojectเดียวกัน \n",
    "\n",
    "3.อยู่คนละprojectแต่ถ้ามีการอ้างอิงการเข้าถึงมาถูกก็สามารถเข้าถึงได้ "
   ]
  },
  {
   "cell_type": "markdown",
   "metadata": {},
   "source": [
    "1.2 private"
   ]
  },
  {
   "cell_type": "markdown",
   "metadata": {},
   "source": [
    "ตอบ เข้าถึงได้ในเฉพาะ class เดียวกันเท่านั้น"
   ]
  },
  {
   "cell_type": "markdown",
   "metadata": {},
   "source": [
    "1.3 protected"
   ]
  },
  {
   "cell_type": "markdown",
   "metadata": {},
   "source": [
    "ตอบ 1.ภายใน class เดียวกัน  \n",
    "\n",
    "2.ตัวSubclass ที่ทำการสือบทอดไป"
   ]
  },
  {
   "cell_type": "markdown",
   "metadata": {},
   "source": [
    "1.4 internal"
   ]
  },
  {
   "cell_type": "markdown",
   "metadata": {},
   "source": [
    "ตอบ 1.ภายใน class เดียวกัน\n",
    "\n",
    "2.class ที่สืบทอด\n",
    "\n",
    "3.ภายใน assembly เดียวกัน"
   ]
  },
  {
   "cell_type": "markdown",
   "metadata": {},
   "source": [
    "1.5 protected internal"
   ]
  },
  {
   "cell_type": "markdown",
   "metadata": {},
   "source": [
    "ตอบ 1. ภายใน Class เดียวกัน\n",
    "\n",
    "2.Class ที่สอบทอด\n",
    "\n",
    "3.เข้าถึงใน assembly เดียวกัน \n",
    "\n",
    "4.เข้าถึง Classที่สืบทอด นอก assembly ได้"
   ]
  }
 ],
 "metadata": {
  "kernelspec": {
   "display_name": ".NET (C#)",
   "language": "C#",
   "name": ".net-csharp"
  },
  "polyglot_notebook": {
   "kernelInfo": {
    "defaultKernelName": "csharp",
    "items": [
     {
      "aliases": [],
      "languageName": "csharp",
      "name": "csharp"
     }
    ]
   }
  }
 },
 "nbformat": 4,
 "nbformat_minor": 2
}
