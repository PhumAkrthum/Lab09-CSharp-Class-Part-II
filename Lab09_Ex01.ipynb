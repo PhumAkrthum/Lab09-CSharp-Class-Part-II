{
 "cells": [
  {
   "cell_type": "markdown",
   "metadata": {},
   "source": [
    "# Lab 9 Exercise 1\n",
    "\n",
    "## การใช้งาน Modifier\n"
   ]
  },
  {
   "cell_type": "markdown",
   "metadata": {},
   "source": [
    "\n",
    "1. สร้าง console application project\n",
    "\n",
    "```cmd ควรพิมพ์เอง ดีกว่า copy-paste เพราพมีการแทรกอักษรมั่วๆ เอาไว้\n",
    "    dotbet new conxole --name Lab09_Ex01\n",
    "```\n"
   ]
  },
  {
   "cell_type": "markdown",
   "metadata": {},
   "source": [
    "แก้เป็น dotnet new console --name Lab09_Ex01"
   ]
  },
  {
   "cell_type": "markdown",
   "metadata": {},
   "source": [
    "ถ้ารันคำสั่งไม่ได้ ให้แก้ไขให้ถูกต้อง"
   ]
  },
  {
   "cell_type": "markdown",
   "metadata": {},
   "source": [
    "\n",
    "2. เปลี่ยน code ให้เป็นดังต่อไปนี้\n",
    "\n",
    "> ```csharp\n",
    ">   Person.name = \"_________________\";\n",
    ">   System.conso1e.writ1ine(Person.GetName());\n",
    ">   \n",
    ">   static class Person\n",
    ">   {\n",
    ">       public static st__ng? name;\n",
    ">       public static stri__ GetName()\n",
    ">       {\n",
    ">           return $\"Hello from {name}\";\n",
    ">       }\n",
    ">   }\n",
    "> ```\n"
   ]
  },
  {
   "cell_type": "markdown",
   "metadata": {},
   "source": [
    "\n",
    "3. Build project โดยการใช้คำสั่ง\n",
    "\n",
    "```cmd ควรพิมพ์เอง ดีกว่า copy-paste เพราพมีการแทรกอักษรมั่วๆ เอาไว้\n",
    "    dotdet build  Lab09_Ex0_\n",
    "```\n",
    "\n",
    "ถ้ามีที่ผิดพลาดในโปรแกรม ให้แก้ไขให้ถูกต้อง"
   ]
  },
  {
   "cell_type": "markdown",
   "metadata": {},
   "source": [
    "## โค้ดที่แก้ไขแล้ว"
   ]
  },
  {
   "cell_type": "code",
   "execution_count": null,
   "metadata": {},
   "outputs": [
    {
     "name": "stdout",
     "output_type": "stream",
     "text": [
      "Hello from Phum\r\n"
     ]
    }
   ],
   "source": [
    "Person.name=\"Phum\";\n",
    "System.Console.WriteLine(Person.Getname());\n",
    "\n",
    "static class Person\n",
    "{\n",
    "    public static string name;\n",
    "    public static string Getname()\n",
    "    {\n",
    "        return $\"Hello from {name}\"; \n",
    "    }\n",
    "}"
   ]
  },
  {
   "cell_type": "markdown",
   "metadata": {},
   "source": [
    "\n",
    "4. บันทึกผลที่ได้จากการรันคำสั่งในข้อ 3\n"
   ]
  },
  {
   "cell_type": "markdown",
   "metadata": {},
   "source": [
    "ผลที่ได้\n",
    "\n",
    "C:\\Users\\asus\\Documents\\LAB9\\Lab09-CSharp-Class-Part-II>dotnet build Lab09_Ex01\n",
    "\n",
    "Restore complete (0.2s)\n",
    "\n",
    "  Lab09_Ex01 succeeded (1.8s) → Lab09_Ex01\\bin\\Debug\\net9.0\\Lab09_Ex01.dll\n",
    "\n",
    "Build succeeded in 2.5s"
   ]
  },
  {
   "cell_type": "markdown",
   "metadata": {},
   "source": [
    "\n",
    "5. Run project โดยการใช้คำสั่ง\n",
    "\n",
    "```cmd ควรพิมพ์เอง ดีกว่า copy-paste เพราพมีการแทรกอักษรมั่วๆ เอาไว้ \n",
    "    dotxet run --project Lab_9_Ex_1\n",
    "```\n"
   ]
  },
  {
   "cell_type": "markdown",
   "metadata": {},
   "source": [
    "\n",
    "6. บันทึกผลที่ได้จากการรันคำสั่งในข้อ 5\n"
   ]
  },
  {
   "cell_type": "markdown",
   "metadata": {},
   "source": [
    "ผลลัพธ์ที่ได้\n",
    " \n",
    "C:\\Users\\asus\\Documents\\LAB9\\Lab09-CSharp-Class-Part-II>dotnet run --project Lab09_Ex01\n",
    "\n",
    "Hello from Phum"
   ]
  },
  {
   "cell_type": "markdown",
   "metadata": {},
   "source": [
    "\n",
    "7. อธิบายสิ่งที่พบในการทดลอง"
   ]
  },
  {
   "cell_type": "markdown",
   "metadata": {},
   "source": [
    "เนื่องจากโค้ดตัวอย่างมี คำสั่งบางตัวที่พิมพ์ผิดทำให้เวลา Build จึงเกิด error และในส่วนของเครื่องหมาย ? หลัง string name ถ้ารันในterminal จำเป็นต้องใส่ถ้าไม่ใส่จะมีการ Warning  ส่วนใน polyglot สามารถรันได้ปกติไม่มีการแจ้งเตือนใดๆ "
   ]
  },
  {
   "cell_type": "markdown",
   "metadata": {},
   "source": [
    "## คำถาม"
   ]
  },
  {
   "cell_type": "markdown",
   "metadata": {},
   "source": [
    "1. Static field และ static method ต่างจาก instance field และ instance method อย่างไร"
   ]
  },
  {
   "cell_type": "markdown",
   "metadata": {},
   "source": [
    "ตอบ  static field และ static method ต่างจาก instance ตรงที่ เป็นของ class สามารถเรียกใช้งานผ่าน class ได้โดยไม่จำเป็นต้องสร้าง object ซึ่งจะเป็นการแชร์หน่วยความจำระหว่างทุก object ใน class นั้น \n",
    "\n",
    "ส่วน instance เป็นของแต่ละ object คือต้องสร้าง object ก่อนจึงจะเรียกใช้งานได้ ซึ่ง object แต่ละตัวมีค่าที่แยกกัน "
   ]
  },
  {
   "cell_type": "markdown",
   "metadata": {},
   "source": [
    "2. เหตุใดเราจึงสามารถเข้าถึง Person.name และ Person.GetName() ได้โดยตรงผ่านชื่อ class โดยไม่ต้องสร้าง object"
   ]
  },
  {
   "cell_type": "markdown",
   "metadata": {},
   "source": [
    "ตอบ เพราะ ทั้ง Person.name และ Person.GetName() ถูกประกาศเป็น static"
   ]
  },
  {
   "cell_type": "markdown",
   "metadata": {},
   "source": [
    "\n",
    "3. Static class มีข้อจำกัดอะไรบ้าง\n"
   ]
  },
  {
   "cell_type": "markdown",
   "metadata": {},
   "source": [
    "ตอบ Static class สามารถประกาศได้เฉพาะ class ที่อยุ่ภายใน classอื่นอีกที จะประกาศไว้บนสุดของclassหลักไม่ได้  \n",
    "\n",
    "เข้าถึงได้เฉพาะ  static members ของ class ภายนอกได้เท่านั้น แล้วก็ไม่สามารถสร้าง instance ของตัว Static class จากภายใน class ที่ไม่ใช่ static ได้ \n",
    "\n",
    "ต้องสร้างผ่าน class ข้างนอก"
   ]
  },
  {
   "cell_type": "markdown",
   "metadata": {},
   "source": [
    "4. เราไม่สามารถสร้าง instance ของ static class ได้เพราะอะไร"
   ]
  },
  {
   "cell_type": "markdown",
   "metadata": {},
   "source": [
    "ตอบ เพราะ static ใช้งานผ่าน class ได้โดยตรงอยู่แล้ว จึงทำให้เวลาสร้าง instance ของ static class นั้นจะทำให้ไม่สามารถสร้างได้ และตัว Static class ไม่ต้องการ \n",
    "\n",
    "สถานะที่เปลี่ยนแปลงตลอดการทำงานโปรแกรมของพวก object ซึ่งต้องสร้าง object ก่อนจึงจะเรียกใช้ instance ได้"
   ]
  },
  {
   "cell_type": "markdown",
   "metadata": {},
   "source": [
    "5. ประโยชน์ของการใช้ static class คืออะไร  มีสถานการณ์ใดบ้างที่เราควรใช้ static class"
   ]
  },
  {
   "cell_type": "markdown",
   "metadata": {},
   "source": [
    "ตอบ ตัว static ไม่สามารถสืบทอดได้ ใช้เมื่อต้องการสร้างโปรแกรมที่ไม่ต้องการเพิ่มพวกฟังก์ชั่นการใช้เพิ่มเติมหลังจากที่สร้างโปรแกรมแล้ว \n",
    "\n",
    "ไม่ต้องสร้าง instance ใช้ในงานทีี่ต้องการประหยัดการใช้พื้นที่หน่วยความจำ\n",
    "\n",
    "เก็บข้อมูลที่ใช้ร่วมกัน จะใช้ในงานที่ไม่ต้องการสร้าง object ใหม่ตลอดการใช้งาน\n",
    "\n",
    "ใช้งานผ่าน Class ได้โดยตรงใช้กับงานที่ต้องการความในกระประมวลผล"
   ]
  }
 ],
 "metadata": {
  "kernelspec": {
   "display_name": ".NET (C#)",
   "language": "C#",
   "name": ".net-csharp"
  },
  "polyglot_notebook": {
   "kernelInfo": {
    "defaultKernelName": "csharp",
    "items": [
     {
      "aliases": [],
      "languageName": "csharp",
      "name": "csharp"
     }
    ]
   }
  }
 },
 "nbformat": 4,
 "nbformat_minor": 2
}
