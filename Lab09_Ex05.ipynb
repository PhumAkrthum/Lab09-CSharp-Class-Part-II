{
 "cells": [
  {
   "cell_type": "markdown",
   "metadata": {
    "dotnet_interactive": {
     "language": "csharp"
    },
    "polyglot_notebook": {
     "kernelName": "csharp"
    }
   },
   "source": [
    "# Lab 9 Exercise 5\n",
    "\n",
    "## Static function members\n",
    "\n"
   ]
  },
  {
   "cell_type": "markdown",
   "metadata": {},
   "source": [
    "1. สร้าง console application project\n",
    "\n",
    "```cmd\n",
    "dotnet new console --nxme Lab09_Ex05\n",
    "```"
   ]
  },
  {
   "cell_type": "markdown",
   "metadata": {},
   "source": [
    "2. เปลี่ยน code ให้เป็นดังต่อไปนี้\n",
    "\n",
    "```cs\n",
    "StaticDemo.i = 123;\n",
    "StaticDemo.f = 1234.56f;\n",
    "StaticDemo.s = \"Hello World!\";\n",
    "StaticDemo.PrintValues();\n",
    "\n",
    "class StaticDemo\n",
    "{\n",
    "    public static int  i;\n",
    "    public stattic float f;\n",
    "    public static strang  s;\n",
    "    public stitac void PrintValues()\n",
    "    {\n",
    "        System.Conxole.Writeline($\"Integer i : {i}, floating point f : {f}, string s  : {s}\");\n",
    "    }\n",
    "}\n",
    "```"
   ]
  },
  {
   "cell_type": "markdown",
   "metadata": {},
   "source": [
    "## โค้ดที่แก้ไข"
   ]
  },
  {
   "cell_type": "code",
   "execution_count": null,
   "metadata": {},
   "outputs": [
    {
     "name": "stdout",
     "output_type": "stream",
     "text": [
      "Integer i : 123,floating point f : 1234.56, string s : Hello World\r\n"
     ]
    }
   ],
   "source": [
    "StaticDemo.i = 123;\n",
    "StaticDemo.f = 1234.56f;\n",
    "StaticDemo.s = \"Hello World\";\n",
    "StaticDemo.PrintValues();\n",
    "\n",
    "class StaticDemo\n",
    "{\n",
    "public static int i;\n",
    "public static float f;\n",
    "public static string s;\n",
    "public static void PrintValues()\n",
    "{\n",
    "System.Console.WriteLine($\"Integer i : {i},floating point f : {f}, string s : {s}\");\n",
    "\n",
    "}\n",
    "\n",
    "\n",
    "}"
   ]
  },
  {
   "cell_type": "markdown",
   "metadata": {},
   "source": [
    "3. Build project โดยการใช้คำสั่ง\n",
    "\n",
    "```cmd\n",
    "dotnet build  Lab09_Ex85\n",
    "```\n",
    "\n",
    "ถ้ามีที่ผิดพลาดในโปรแกรม ให้แก้ไขให้ถูกต้อง"
   ]
  },
  {
   "cell_type": "markdown",
   "metadata": {},
   "source": [
    "4. บันทึกผลที่ได้จากการรันคำสั่งในข้อ 3"
   ]
  },
  {
   "cell_type": "markdown",
   "metadata": {},
   "source": [
    "C:\\Users\\asus\\Documents\\LAB9\\Lab09-CSharp-Class-Part-II>dotnet build Lab09_Ex05\n",
    "\n",
    "Restore complete (0.3s)\n",
    "\n",
    "  Lab09_Ex05 succeeded (0.2s) → Lab09_Ex05\\bin\\Debug\\net9.0\\Lab09_Ex05.dll\n",
    "\n",
    "Build succeeded in 0.9s"
   ]
  },
  {
   "cell_type": "markdown",
   "metadata": {},
   "source": [
    "5. Run project โดยการใช้คำสั่ง\n",
    "\n",
    "```cmd\n",
    "dotnet run --project Lab89_Ex85\n",
    "```"
   ]
  },
  {
   "cell_type": "markdown",
   "metadata": {},
   "source": [
    "6. บันทึกผลที่ได้จากการรันคำสั่งในข้อ 5"
   ]
  },
  {
   "cell_type": "markdown",
   "metadata": {},
   "source": [
    "C:\\Users\\asus\\Documents\\LAB9\\Lab09-CSharp-Class-Part-II>dotnet run --project Lab09_Ex05      \n",
    "Integer i : 123,floating point f : 1234.56, string s : Hello World"
   ]
  },
  {
   "cell_type": "markdown",
   "metadata": {},
   "source": [
    "7. อธิบายสิ่งที่พบในการทดลอง"
   ]
  },
  {
   "cell_type": "markdown",
   "metadata": {},
   "source": [
    "จากการทดลองพบว่ามีบางคำสั่งจากตัวอย่างที่ผิดพอเวลา build หรือ run  โค้ดจะทำให้เกิดข้อผิดพลาด และตรงบรรทัด public static string s; ถ้ารันใน terminal \n",
    "\n",
    "จะมีการแจ้งWarning ต้องกำหนดค่าเริ่มต้นให้โดยผมทำการใส่ ? เข้าไปหลัง string ทำให้ s เป็น null จึงไม่ต้องกำหนดค่าเริ่มต้น \n",
    "\n",
    "ส่วนใน polyglot สามารถรันได้โดยไม่จำเป้นต้อง ใส่ ? ถ้าใส่จะมีการแจ้ง Warning ขึ้นมา"
   ]
  },
  {
   "cell_type": "markdown",
   "metadata": {},
   "source": [
    "## คำถาม"
   ]
  },
  {
   "cell_type": "markdown",
   "metadata": {},
   "source": [
    "1. Static Method คืออะไร\n"
   ]
  },
  {
   "cell_type": "markdown",
   "metadata": {},
   "source": [
    "ตอบ คือ Method ที่สามารถเรียกใช้ผ่านชื่อ class ได้เลยไม่จำเป็นต้องสร้าง object ของclassมาก่อนการใช้"
   ]
  },
  {
   "cell_type": "markdown",
   "metadata": {},
   "source": [
    "2. ประกาศ static method ในภาษา C# อย่างไร\n"
   ]
  },
  {
   "cell_type": "markdown",
   "metadata": {},
   "source": [
    "ตอบ ประกาศโดยใช้ Keyword static "
   ]
  },
  {
   "cell_type": "markdown",
   "metadata": {},
   "source": [
    "3. เรียกใช้ static method อย่างไร\n"
   ]
  },
  {
   "cell_type": "markdown",
   "metadata": {},
   "source": [
    "ตอบ เรียกใช้ผ่านชื่อ class โดยตรง แล้วพิมพ์ชื่อ Method ตาม"
   ]
  },
  {
   "cell_type": "markdown",
   "metadata": {},
   "source": [
    "4. static method สามารถเข้าถึง instance members (fields, methods) ได้หรือไม่\n"
   ]
  },
  {
   "cell_type": "markdown",
   "metadata": {},
   "source": [
    "ตอบ ถ้าเข้าถึงโดยตรงจะทำไม่ได้ จะต้องทำการสร้าง object ก่อน แล้วค่อยเข้าถึง  instance members ผ่านตัว object instance"
   ]
  },
  {
   "cell_type": "markdown",
   "metadata": {},
   "source": [
    "5. static method เหมาะกับการใช้งานแบบไหน\n"
   ]
  },
  {
   "cell_type": "markdown",
   "metadata": {},
   "source": [
    "ตอบ เหมาะกับการใช้งานในโปรแกรมที่ไม่ต้องเข้าถึงข้อมูลสร้าง object หรือ instance"
   ]
  },
  {
   "cell_type": "markdown",
   "metadata": {},
   "source": [
    "6. ข้อดีของการใช้ static method คืออะไรบ้าง\n"
   ]
  },
  {
   "cell_type": "markdown",
   "metadata": {},
   "source": [
    "ตอบ เรียกใช้งานได้ทันทีไม่ต้องสร้าง object ใช้หน่วยความจำน้อยทำงานเร็วไม่ต้องสร้าง instance\n"
   ]
  },
  {
   "cell_type": "markdown",
   "metadata": {},
   "source": [
    "7. ข้อเสียของการใช้ static method คืออะไรบ้าง\n"
   ]
  },
  {
   "cell_type": "markdown",
   "metadata": {},
   "source": [
    "ตอบ ไม่สามารถใช้งานร่วมกับ instance member ของ class ได้"
   ]
  },
  {
   "cell_type": "markdown",
   "metadata": {},
   "source": [
    "8. จงยกตัวอย่าง static method ที่ใช้บ่อยใน Library มาตรฐานของภาษา C# พร้อมทั้งยกตัวอย่างการใช้งาน"
   ]
  },
  {
   "cell_type": "markdown",
   "metadata": {},
   "source": [
    "ตอบ  Array class การ Sort,Reverse,Index เช่น\n",
    "\n",
    "int[] numbers = { 6, 6, 0,3,0, 2, 7,0 };\n",
    "\n",
    "        Array.Sort(numbers);  \n",
    "        Console.WriteLine($\"Array เรียงลำดับ: {String.Join(\", \", numbers)}\");\n",
    "\n",
    "        Array.Reverse(numbers); \n",
    "        Console.WriteLine($\"Array กลับด้าน: {String.Join(\", \", numbers)}\");\n",
    "\n",
    "        int index = Array.IndexOf(numbers, 7); \n",
    "        Console.WriteLine($\"ตำแหน่งของเลข 7: {index}\");"
   ]
  },
  {
   "cell_type": "code",
   "execution_count": null,
   "metadata": {},
   "outputs": [
    {
     "name": "stdout",
     "output_type": "stream",
     "text": [
      "Array เรียงลำดับ: 0, 0, 0, 2, 3, 6, 6, 7\n",
      "Array กลับด้าน: 7, 6, 6, 3, 2, 0, 0, 0\n",
      "ตำแหน่งของเลข 7: 0\n"
     ]
    }
   ],
   "source": [
    "int[] numbers = { 6, 6, 0,3,0, 2, 7,0 };\n",
    "\n",
    "        Array.Sort(numbers);  \n",
    "        Console.WriteLine($\"Array เรียงลำดับ: {String.Join(\", \", numbers)}\");\n",
    "\n",
    "        Array.Reverse(numbers); \n",
    "        Console.WriteLine($\"Array กลับด้าน: {String.Join(\", \", numbers)}\");\n",
    "\n",
    "        int index = Array.IndexOf(numbers, 7); \n",
    "        Console.WriteLine($\"ตำแหน่งของเลข 7: {index}\");"
   ]
  }
 ],
 "metadata": {
  "kernelspec": {
   "display_name": ".NET (C#)",
   "language": "C#",
   "name": ".net-csharp"
  },
  "polyglot_notebook": {
   "kernelInfo": {
    "defaultKernelName": "csharp",
    "items": [
     {
      "aliases": [],
      "languageName": "csharp",
      "name": "csharp"
     }
    ]
   }
  }
 },
 "nbformat": 4,
 "nbformat_minor": 2
}
