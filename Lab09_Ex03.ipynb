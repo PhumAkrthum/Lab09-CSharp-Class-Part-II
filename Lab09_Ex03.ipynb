{
 "cells": [
  {
   "cell_type": "markdown",
   "metadata": {
    "dotnet_interactive": {
     "language": "csharp"
    },
    "polyglot_notebook": {
     "kernelName": "csharp"
    }
   },
   "source": [
    "# Lab 9 Exercise 3\n",
    "\n",
    "## Instance vs static members\n"
   ]
  },
  {
   "cell_type": "markdown",
   "metadata": {},
   "source": [
    "\n",
    "1. สร้าง console application project\n",
    "\n",
    "```cmd\n",
    "    dotnet new console --name Lab09_Ex03\n",
    "```\n"
   ]
  },
  {
   "cell_type": "markdown",
   "metadata": {},
   "source": [
    "\n",
    "2. เปลี่ยน code ให้เป็นดังต่อไปนี้\n",
    "\n",
    "```csharp\n",
    "    Person.name = \"____Person name _____\";\n",
    "    System.Cοnsο1e.write1ine(Person.GetName());\n",
    "    var student = new Student();\n",
    "    student.name = \"_______student name_______\";\n",
    "    System.Conso1e.ωrite1ine(student.GetName());\n",
    "\n",
    "    static Class Person\n",
    "    {\n",
    "        static  pub1ic string? name;\n",
    "        static  pub1ic string GetName()\n",
    "        {\n",
    "            return $\"Hello from {nawe}\";\n",
    "        }\n",
    "    }\n",
    "\n",
    "    class Student : Person\n",
    "    {\n",
    "        \n",
    "    }\n",
    "```\n"
   ]
  },
  {
   "cell_type": "markdown",
   "metadata": {},
   "source": [
    "\n",
    "3. Build project โดยการใช้คำสั่ง\n",
    "\n",
    "```cmd\n",
    "dotnet bul1d  Lab09_Ex03\n",
    "```\n",
    "\n",
    "ถ้ามีที่ผิดพลาดในโปรแกรม ให้แก้ไขให้ถูกต้อง\n"
   ]
  },
  {
   "cell_type": "markdown",
   "metadata": {},
   "source": [
    "## โปรแกรมที่แก้ไข "
   ]
  },
  {
   "cell_type": "code",
   "execution_count": null,
   "metadata": {},
   "outputs": [
    {
     "name": "stdout",
     "output_type": "stream",
     "text": [
      "Hello from Phum Akrthum\n",
      "Hello from Phum Akrthum\n"
     ]
    }
   ],
   "source": [
    "Person.name = \"Phum Akrthum\"; \n",
    "System.Console.WriteLine(Person.Getname());\n",
    "var student = new Student();\n",
    "Student.name = \"Phum Akrthum\";\n",
    "System.Console.WriteLine(student.Getname());\n",
    "\n",
    "static class Person\n",
    "{\n",
    "    static public string name;\n",
    "    static public string Getname()\n",
    "    {\n",
    "        return $\"Hello from {name}\"; \n",
    "    }\n",
    "}\n",
    "\n",
    "class Student\n",
    "{\n",
    "    public static string name; \n",
    "    public string Getname()\n",
    "    {\n",
    "        return $\"Hello from {name}\"; \n",
    "    }\n",
    "}"
   ]
  },
  {
   "cell_type": "markdown",
   "metadata": {},
   "source": [
    "\n",
    "4. บันทึกผลที่ได้จากการรันคำสั่งในข้อ 3 \n"
   ]
  },
  {
   "cell_type": "markdown",
   "metadata": {},
   "source": [
    "C:\\Users\\asus\\Documents\\LAB9\\Lab09-CSharp-Class-Part-II>dotnet build Lab09_Ex03\n",
    "\n",
    "Restore complete (0.2s)\n",
    "\n",
    "  Lab09_Ex03 succeeded (0.4s) → Lab09_Ex03\\bin\\Debug\\net9.0\\Lab09_Ex03.dll\n",
    "\n",
    "Build succeeded in 1.1s"
   ]
  },
  {
   "cell_type": "markdown",
   "metadata": {},
   "source": [
    "\n",
    "5. Run project โดยการใช้คำสั่ง\n",
    "\n",
    "```cmd\n",
    "dotnet rum --project Lab09_Ex03\n",
    "```\n"
   ]
  },
  {
   "cell_type": "markdown",
   "metadata": {},
   "source": [
    "\n",
    "6. บันทึกผลที่ได้จากการรันคำสั่งในข้อ 5\n"
   ]
  },
  {
   "cell_type": "markdown",
   "metadata": {},
   "source": [
    "C:\\Users\\asus\\Documents\\LAB9\\Lab09-CSharp-Class-Part-II>dotnet run --project Lab09_Ex03      \n",
    "\n",
    "Hello from Phum Akrthum\n",
    "\n",
    "Hello from Phum Akrthum"
   ]
  },
  {
   "cell_type": "markdown",
   "metadata": {},
   "source": [
    "\n",
    "7. อธิบายสิ่งที่พบในการทดลอง"
   ]
  },
  {
   "cell_type": "markdown",
   "metadata": {},
   "source": [
    "จากการทดลองพบว่ามีบางคำสั่งในโปรแกรมที่ผิด และ ตรงส่วนของการ สืบทอด class ไม่สามารถสืบทอดได้เพราะ ประกาศ Class Person แบบ static Class \n",
    "\n",
    "Student จึงไม่สามารถสืบทอดได้ผมจึงแก้ไขโดยการประกาศ class Student ที่มีองค์ประกอบภายใน class คล้ายกันขึ้นมาเพิ่ม"
   ]
  },
  {
   "cell_type": "markdown",
   "metadata": {},
   "source": [
    "## คำถาม"
   ]
  },
  {
   "cell_type": "markdown",
   "metadata": {},
   "source": [
    "1. ในภาษา C# นั้น Instance members และ static members  แตกต่างกันอย่างไร"
   ]
  },
  {
   "cell_type": "markdown",
   "metadata": {},
   "source": [
    "ตอบ Static จะเข้าถึงผ่านชื่อ Class โดยตรงไม่ต้องสร้าง object โดยจะสร้างครั้งเดียวและใช้ร่วมกันของ object ใน Class ส่วน Instance จะเข้าถึงผ่าน object \n",
    "\n",
    "ที่สร้างจาก Class และจะสรา้งใหม่ทุกครั้งที่มีการสร้างตัว object "
   ]
  },
  {
   "cell_type": "markdown",
   "metadata": {},
   "source": [
    "2. เข้าถึง Instance members และ static members มีหลักการที่แตกต่างกันอย่างไร"
   ]
  },
  {
   "cell_type": "markdown",
   "metadata": {},
   "source": [
    "ตอบ ต่างกัน Static สามารถเข้าถึงผ่านชื่อ Class ได้โดยตรง ส่วน instance ถ้าจะเข้าถึงต้องมีการสร้าง Object ก่อนแล้วจึงเข้าถึงผ่าน Object"
   ]
  },
  {
   "cell_type": "markdown",
   "metadata": {},
   "source": [
    "3. Instance members และ static members เหมาะกับการใช้งานแบบไหน"
   ]
  },
  {
   "cell_type": "markdown",
   "metadata": {},
   "source": [
    "ตอบ Static เหมาะกับการใช้งานแบบที่เป็นพวกค่าคงที่ต่างๆ กับการนับจำนวน object ที่สร้างมาใหม่เรื่อยๆ กับพวกที่เป็นฟังก์ชั่นการทำงานคณิตศาสตร์ \n",
    "\n",
    "ที่ไม่ต้องใช้ข้อมูลของ Object ส่วน Instance จะใช้กับงานที่เก็บข้อมูลเฉพาะในแต่ละ Object นักศึกษา รหัสนักศึกษา ชื่อ อายุ คณะ แขนง"
   ]
  },
  {
   "cell_type": "markdown",
   "metadata": {},
   "source": [
    "4. Instance members และ static members ใช้หน่วยความจำต่างกันอย่างไร"
   ]
  },
  {
   "cell_type": "markdown",
   "metadata": {},
   "source": [
    "ตอบ Static จะใช้หน่วยความจำร่วมกันทั้งโปรแกรมในทุก object  ส่วน instance เมื่อสร้าง odject ใหม่จะมีหน่วยความจำเพิ่มขึ้นมาใหม่เรื่อยๆ เพราะ object \n",
    "\n",
    "แต่ละตัวจะมีพื้นที่หน่วยความจำของตัวเอง"
   ]
  },
  {
   "cell_type": "markdown",
   "metadata": {},
   "source": [
    "5. Instance members และ static members มีอายุการใช้งานต่างกันอย่างไร"
   ]
  },
  {
   "cell_type": "markdown",
   "metadata": {},
   "source": [
    "ตอบ Static มีอายุการใช้งานตลอดการทำงานโปรแกรมเมื่อปิดโปรแกรมคือหมดอายุการใช้ ส่วน Instance มีอายุการใช้งานตาม object ถ้าถูกทำลายคือหมดอายุการใช้"
   ]
  },
  {
   "cell_type": "markdown",
   "metadata": {},
   "source": [
    "6. Instance members และ static members สามารถใช้งานร่วมกันได้หรือไม่"
   ]
  },
  {
   "cell_type": "markdown",
   "metadata": {},
   "source": [
    "ตอบ สามารถเข้าถึงร่วมกันได้ได้ผ่านการกำหนด access modifier ต่างๆ แต่ถ้าจะให้ Static members เข้าถึง Instance members โดยตรงไม่ได้ ส่วน instance members สามารถเข้าถึง static members ได้"
   ]
  },
  {
   "cell_type": "markdown",
   "metadata": {},
   "source": [
    "7. keyword static ใช้กับสมาชิกประเภทใดของคลาสได้บ้าง"
   ]
  },
  {
   "cell_type": "markdown",
   "metadata": {},
   "source": [
    "ตอบ ประเภทที่เป็น Fields Methods Class Properties Constructors"
   ]
  }
 ],
 "metadata": {
  "kernelspec": {
   "display_name": ".NET (C#)",
   "language": "C#",
   "name": ".net-csharp"
  },
  "polyglot_notebook": {
   "kernelInfo": {
    "defaultKernelName": "csharp",
    "items": [
     {
      "aliases": [],
      "languageName": "csharp",
      "name": "csharp"
     }
    ]
   }
  }
 },
 "nbformat": 4,
 "nbformat_minor": 2
}
