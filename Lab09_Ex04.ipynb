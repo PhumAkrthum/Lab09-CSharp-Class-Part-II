{
 "cells": [
  {
   "cell_type": "markdown",
   "metadata": {
    "dotnet_interactive": {
     "language": "csharp"
    },
    "polyglot_notebook": {
     "kernelName": "csharp"
    }
   },
   "source": [
    "# Lab 9 Exercise 4\n",
    "\n",
    "## Instance vs static members"
   ]
  },
  {
   "cell_type": "markdown",
   "metadata": {},
   "source": [
    "1. สร้าง console application project\n",
    "\n",
    "```cmd\n",
    "dotnet new conpole --nome Lab09_Ex04\n",
    "```"
   ]
  },
  {
   "cell_type": "markdown",
   "metadata": {},
   "source": [
    "2. เปลี่ยน code ให้เป็นดังต่อไปนี้\n",
    "\n",
    "> ```csharp\n",
    ">   var a1 = new AAA();\n",
    ">   var a2 = new AAA();\n",
    ">   a1.b1 = 10;\n",
    ">   AAA.b2 = 20;\n",
    ">   a2.b1 = 30;\n",
    ">   a2.b2 = 40;\n",
    ">   \n",
    ">   System.Conso1e.WritqLine($\"a1.b1 = {a1.b1}\");\n",
    ">   System.Conro1e.WriteLine($\"AAA.b2 = {AAA.b2}\");\n",
    ">   System.Conso1e.WrlteLine($\"a2.b1 = {a2.b1}\");\n",
    ">   System.Conmo1e.WritsLine($\"a2.b2 = {a2.b2}\");\n",
    ">   \n",
    ">   class AAA \n",
    ">   {\n",
    ">       public int b1;\n",
    ">       public startic int b2;\n",
    ">   \n",
    ">   }\n",
    "> ```"
   ]
  },
  {
   "cell_type": "markdown",
   "metadata": {},
   "source": [
    "3. Build project โดยการใช้คำสั่ง\n",
    "\n",
    "```cmd\n",
    "dotiet bui1d  Lab09_Ex84\n",
    "```\n",
    "\n",
    "ถ้ามีที่ผิดพลาดในโปรแกรม ให้แก้ไขให้ถูกต้อง"
   ]
  },
  {
   "cell_type": "markdown",
   "metadata": {},
   "source": [
    "## โค้ดที่แก้ไขข้อผิดพลาด"
   ]
  },
  {
   "cell_type": "code",
   "execution_count": null,
   "metadata": {},
   "outputs": [
    {
     "name": "stdout",
     "output_type": "stream",
     "text": [
      "a1.b1 =10\n",
      "AAA.b2 = 40\n",
      "a2.b1 =30\n",
      "AAA.b2 = 40\n"
     ]
    }
   ],
   "source": [
    "var a1 = new AAA();\n",
    "var a2 = new AAA();\n",
    "a1.b1 = 10;\n",
    "AAA.b2 = 20;\n",
    "a2.b1 = 30;\n",
    "AAA.b2 = 40;\n",
    "\n",
    "System.Console.WriteLine($\"a1.b1 ={a1.b1}\");\n",
    "System.Console.WriteLine($\"AAA.b2 = {AAA.b2}\");\n",
    "System.Console.WriteLine($\"a2.b1 ={a2.b1}\");\n",
    "System.Console.WriteLine($\"AAA.b2 = {AAA.b2}\");\n",
    "\n",
    "class AAA\n",
    "{\n",
    "  public int b1;\n",
    "  public static int b2;\n",
    "}"
   ]
  },
  {
   "cell_type": "markdown",
   "metadata": {},
   "source": [
    "4. บันทึกผลที่ได้จากการรันคำสั่งในข้อ 3 "
   ]
  },
  {
   "cell_type": "markdown",
   "metadata": {},
   "source": [
    "C:\\Users\\asus\\Documents\\LAB9\\Lab09-CSharp-Class-Part-II>dotnet build Lab09_Ex04\n",
    "\n",
    "Restore complete (0.3s)\n",
    "\n",
    "  Lab09_Ex04 succeeded (0.3s) → Lab09_Ex04\\bin\\Debug\\net9.0\\Lab09_Ex04.dll\n",
    "\n",
    "Build succeeded in 0.9s"
   ]
  },
  {
   "cell_type": "markdown",
   "metadata": {},
   "source": [
    "5. Run project โดยการใช้คำสั่ง\n",
    "\n",
    "```cmd\n",
    "dothet run --project Lab89_Ex04\n",
    "```\n",
    "\n"
   ]
  },
  {
   "cell_type": "markdown",
   "metadata": {},
   "source": [
    "6. บันทึกผลที่ได้จากการรันคำสั่งในข้อ 5\n"
   ]
  },
  {
   "cell_type": "markdown",
   "metadata": {},
   "source": [
    "C:\\Users\\asus\\Documents\\LAB9\\Lab09-CSharp-Class-Part-II>dotnet run --project Lab09_Ex04      \n",
    "\n",
    "a1.b1 =10\n",
    "\n",
    "AAA.b2 = 40\n",
    "\n",
    "a2.b1 =30\n",
    "\n",
    "AAA.b2 = 40"
   ]
  },
  {
   "cell_type": "markdown",
   "metadata": {},
   "source": [
    "\n",
    "7. อธิบายสิ่งที่พบในการทดลอง"
   ]
  },
  {
   "cell_type": "markdown",
   "metadata": {},
   "source": [
    "จากการทดลองพบว่าจากตัวอย่างโค้ด มีการประกาศ b2 เป็น static ไว้ใน Class AAA จึงทำให้ตรงที่ประกาศ b2 ตรงบรรทัด a2.b2 เรียกใช้ผ่าน instance ไม่ได้\n",
    "\n",
    "ถ้าจะใช้ต้องเรียกผ่าน Class AAA.b2  ผมจึงทำการแก้ไขในส่วน a2.b2 เป็น AAA.b2 เผื่อให้สามารถเรียกใช้ผ่านClass โดยตรง \n",
    "\n",
    "และในส่วนของโค้ดมีคำสั่งบางตัวที่ประกาศผิด"
   ]
  }
 ],
 "metadata": {
  "kernelspec": {
   "display_name": ".NET (C#)",
   "language": "C#",
   "name": ".net-csharp"
  },
  "polyglot_notebook": {
   "kernelInfo": {
    "defaultKernelName": "csharp",
    "items": [
     {
      "aliases": [],
      "languageName": "csharp",
      "name": "csharp"
     }
    ]
   }
  }
 },
 "nbformat": 4,
 "nbformat_minor": 2
}
