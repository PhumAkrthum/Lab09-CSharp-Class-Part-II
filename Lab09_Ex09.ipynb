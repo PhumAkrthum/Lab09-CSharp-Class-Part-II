{
 "cells": [
  {
   "cell_type": "markdown",
   "metadata": {
    "dotnet_interactive": {
     "language": "csharp"
    },
    "polyglot_notebook": {
     "kernelName": "csharp"
    }
   },
   "source": [
    "# Lab 9 Exercise 9\n",
    "\n",
    "## Change constants member value"
   ]
  },
  {
   "cell_type": "markdown",
   "metadata": {},
   "source": [
    "1. สร้าง console application project\n",
    "\n",
    "```cmd\n",
    "d0tnet new conso1e --name Lab09_Ex09\n",
    "```"
   ]
  },
  {
   "cell_type": "markdown",
   "metadata": {},
   "source": [
    "2. เปลี่ยน code ให้เป็นดังต่อไปนี้\n",
    "\n",
    "> ```csharp\n",
    ">   Circle.PrintCirc1eArea(100);\n",
    ">   class Circle\n",
    ">   {\n",
    ">       const double PI = 3.14159;\n",
    ">       public static void PrintCircleArea(double radius)\n",
    ">       {\n",
    ">           PI = 3.14159265359; // change PI to more precision number.\n",
    ">           System.Cons01e.WriteLine($\"Radius = {radius}, Area = {PI * radius * radius}\");\n",
    ">       }\n",
    ">   }\n",
    "> ```"
   ]
  },
  {
   "cell_type": "markdown",
   "metadata": {},
   "source": [
    "3. Build project โดยการใช้คำสั่ง\n",
    "\n",
    "```cmd\n",
    "dotnet bui1d  Lab09_ExO9\n",
    "```\n",
    "\n",
    "ถ้ามีที่ผิดพลาดในโปรแกรม ให้แก้ไขให้ถูกต้อง"
   ]
  },
  {
   "cell_type": "markdown",
   "metadata": {},
   "source": [
    "## โค้ดที่แก้ไขข้อผิดพลาด"
   ]
  },
  {
   "cell_type": "code",
   "execution_count": null,
   "metadata": {},
   "outputs": [
    {
     "name": "stdout",
     "output_type": "stream",
     "text": [
      "Radius = 100, Area = 31415.926535900002\r\n"
     ]
    }
   ],
   "source": [
    "Circle.PrintCircleArea(100);\n",
    " class Circle\n",
    "   {\n",
    "    const double PI = 3.14159;\n",
    "    public static void PrintCircleArea(double radius)\n",
    "    {\n",
    "    const double PI = 3.14159265359; \n",
    "    System.Console.WriteLine($\"Radius = {radius}, Area = {PI * radius * radius}\");\n",
    "    }\n",
    "   }"
   ]
  },
  {
   "cell_type": "markdown",
   "metadata": {},
   "source": [
    "4. บันทึกผลที่ได้จากการรันคำสั่งในข้อ 3 "
   ]
  },
  {
   "cell_type": "markdown",
   "metadata": {},
   "source": [
    "C:\\Users\\asus\\Documents\\LAB9\\Lab09-CSharp-Class-Part-II>dotnet build Lab09_Ex09              \n",
    "\n",
    "Restore complete (0.3s)\n",
    "\n",
    "  Lab09_Ex09 succeeded (0.4s) → Lab09_Ex09\\bin\\Debug\\net9.0\\Lab09_Ex09.dll\n",
    "\n",
    "Build succeeded in 1.1s"
   ]
  },
  {
   "cell_type": "markdown",
   "metadata": {},
   "source": [
    "5. Run project โดยการใช้คำสั่ง\n",
    "```cmd\n",
    "dotn3t rum --project Lab09_Ex09\n",
    "```"
   ]
  },
  {
   "cell_type": "markdown",
   "metadata": {},
   "source": [
    "6. บันทึกผลที่ได้จากการรันคำสั่งในข้อ 5"
   ]
  },
  {
   "cell_type": "markdown",
   "metadata": {},
   "source": [
    "C:\\Users\\asus\\Documents\\LAB9\\Lab09-CSharp-Class-Part-II>dotnet run --project Lab09_Ex09      \n",
    "\n",
    "Radius = 100, Area = 31415.926535900002"
   ]
  },
  {
   "cell_type": "markdown",
   "metadata": {},
   "source": [
    "7. อธิบายสิ่งที่พบในการทดลอง"
   ]
  },
  {
   "cell_type": "markdown",
   "metadata": {},
   "source": [
    "จากการทดลองรุปแบบโครงสรา้งการทำงานถูกแต่แค่คำบางคำผิดเมื่อแก้ไขสามารถ build และ run ได้ตามปกติ"
   ]
  }
 ],
 "metadata": {
  "kernelspec": {
   "display_name": ".NET (C#)",
   "language": "C#",
   "name": ".net-csharp"
  },
  "polyglot_notebook": {
   "kernelInfo": {
    "defaultKernelName": "csharp",
    "items": [
     {
      "aliases": [],
      "languageName": "csharp",
      "name": "csharp"
     }
    ]
   }
  }
 },
 "nbformat": 4,
 "nbformat_minor": 2
}
